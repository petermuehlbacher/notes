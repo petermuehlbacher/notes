{
 "cells": [
  {
   "cell_type": "markdown",
   "metadata": {
    "slideshow": {
     "slide_type": "slide"
    }
   },
   "source": [
    "This article does by no means intend to present an entire proof. Instead the following\n",
    "should be viewed as complementary material motivating the\n",
    "most interesting steps, much like a talk would do.\n",
    "\n",
    "The corresponding paper has not yet been published, but can be sent out upon request."
   ]
  },
  {
   "cell_type": "markdown",
   "metadata": {},
   "source": [
    "## The Setting\n",
    "The central object of interest is a (big) matrix $H=\\frac{1}{\\sqrt N}(X_{ij})_ {i,j=1}^N,$\n",
    "where $X_{ij}$ are complex, centered random variables that are independent bar\n",
    "the constraint that $X_{ij}=\\bar{X_{ji}}$. There is also a growth condition\n",
    "on their moments, but in this expository article we try to focus on what is most\n",
    "important and hence will not go into the more technical details for which this is needed.\n",
    "\n",
    "Let furthermore $S=(\\mathbb E |H_{ij}|^2)_ {i,j=1}^N$ such that its entries are\n",
    "of the same order of magnitude (in $N$).\n",
    "\n",
    "Denote the largest eigenvalue of $H$ by $\\lambda_\\text{max}$."
   ]
  },
  {
   "cell_type": "markdown",
   "metadata": {},
   "source": [
    "## Eigenvalues ↔ Trace\n",
    "While bounding $\\mathbb E\\lambda_\\text{max}$ seems hard, we could instead\n",
    "relate it to an object like the trace we already know quite a bit about from\n",
    "moment method/Stieltjes transform proofs.\n",
    "\n",
    "To do that use Jensen to get $\\mathbb E\\lambda_\\text{max} \\leq \\mathbb E(\\lambda_\\text{max}^{2k})^\\frac{1}{2k}$ for positive integers $k$.\n",
    "Now since taking even powers makes all eigenvalues positive we have\n",
    "$\\mathbb E\\lambda_\\text{max}^{2k} \\leq \\mathbb E tr H^{2k}.$"
   ]
  },
  {
   "cell_type": "markdown",
   "metadata": {},
   "source": [
    "## Trace ↔ Trees\n",
    "\n",
    "Standard arguments (e.g. following [Zeitouni at al.][1], in particular the pages following the definition of a graph associated with an S-word) reveal that $\\mathbb E tr H^{2k}\\rightarrow \\sum_{\\pi\\in T_k}\\text{val}(\\pi),$ as $N\\rightarrow\\infty$ where $T_k$ is the set of planar, ordered and rooted trees with $k$ edges. We will refrain from giving a rigorous definition of $\\text{val}(\\pi)$ here and instead illustrate what one should think of it with the following example:\n",
    "\n",
    "Let $\\pi$ be the following tree:\n",
    "\n",
    "![tree with edges ab, bc, cd, be][tree]\n",
    "\n",
    "Then $$\\text{val}(\\pi) = \\sum_{a,b,c,d,e=1}^N S_{ab}S_{bc}S_{cd}S_{be}.$$ Note that non-isomorphic trees (in general) do give different values! Also note that this \"definition\" is slightly different from the one in the paper, since the paper is tailored to an efficient and logically coherent presentation rather than introducing concepts as close as possible to already existing ones. Conceptually it doesn't make a difference though.\n",
    "\n",
    "[1]: http://cims.nyu.edu/~zeitouni/cupbook.pdf\n",
    "[tree]: http://i.imgur.com/d08afISm.jpg \"tree with edges ab, bc, cd, be\""
   ]
  },
  {
   "cell_type": "markdown",
   "metadata": {},
   "source": [
    "### Re-deriving a Known Result\n",
    "In the \"Stieltjes transform setting\" one can use theorem 2.1 of [Erdös et al.][2] to establish the bound $$\\mathbb E\\lambda_\\text{max}\\leq 2\\|S\\|^\\frac{1}{2}.$$ This bound follows trivially from the above convergence result $\\mathbb E tr H^{2k}\\rightarrow \\sum_{\\pi\\in T_k}\\text{val}(\\pi)$ by taking suprema over all the $S$ (i.e. $\\sum_b\\sup_a S_{ab} = \\|S\\|$).\n",
    "\n",
    "[2]: https://arxiv.org/pdf/1506.05095v4.pdf"
   ]
  },
  {
   "cell_type": "markdown",
   "metadata": {},
   "source": [
    "### Improving the Result\n",
    "The central idea of the paper is that we can actually bound the sums over the values of the trees more efficiently and in particular in a way that can be read off each summand's tree representation.\n",
    "\n",
    "Let us first show how we can do better in the case of the previous example:\n",
    "\n",
    "$$\\sum_{a,b,c,d,e=1}^N S_{ab}S_{bc}S_{cd}S_{be}\\leq N\\sum_{b,c,d,e=1}^N \\sup_a S_{ab}S_{bc}S_{cd}\\times \\sup_{\\tilde b}S_{\\tilde be} = N\\|S^3\\|\\|S\\|,$$\n",
    "\n",
    "which, by submultiplicativity of the norm, is an improvement by a factor of $z_3 := \\frac{\\|S^3\\|}{\\|S\\|^3}\\leq 1$ (note that we can get rid of the factor $N$ with the help of the $2k$-th root - to let $N$ and $k$ go to infinity simultaneously requires some conditions on the moments of the random variables though). In a similar manner (group $ab,be$ and $bc,cd$ together) we also get the (in general) different upper bound $\\|S^2\\|^2$, giving an improvement by a factor of $z_2^2 := (\\frac{\\|S^2\\|}{\\|S\\|^2})^2$. More generally, define $z_j := \\frac{\\|S^j\\|}{\\|S\\|^j}$ to be the improvement of a sequence of the form $S_{i_1i_2}S_{i_2i_3}\\dots S_{i_{j-2}i_{j-1}}$."
   ]
  },
  {
   "cell_type": "markdown",
   "metadata": {},
   "source": [
    "## Trees ↔ Dyck Paths\n",
    "\n",
    "To generalize this we interpret this method of obtaining upper bounds in a more intuitive (i.e. graph(ical)) setting: Note that those sequences correspond to branches of length $j$ in the tree representation.\n",
    "Now trees didn't turn out to be the easiest representation to work with explicitly. When trying to write computer simulations to rule out some conjectures the bijection between ordered trees and Dyck paths turned out to be helpful and indeed, there is a nice interpretation of above-mentioned sequences of length $j$ in terms of Dyck paths given by the following bijection:\n",
    "\n",
    " * Start at the root of the tree.\n",
    " * Go around the tree clockwise, say.\n",
    " * Every time you go from a parent to its child add an \"up\" to the Dyck path, every time you go from a child to its parent add a \"down\" to the Dyck path.\n",
    "![illustration of the algorithm][treeAndDyck]\n",
    "\n",
    "Now the \"outermost\" sequences translate into $j$-runs in the Dyck path. Note that not every sequence of length $j$ has a corresponding $j$-run in the Dyck path obtained by this method, but this can both improve or worsen the bound (think about that!).\n",
    "\n",
    "Rewrite the sum over trees\n",
    "\n",
    "$$\\sum_{\\pi\\in T_k}\\text{val}(\\pi) = |T_k|\\sum_{\\pi\\in T_k}\\frac{\\text{val}(\\pi)}{|T_k|} = |T_k|\\mathbb E\\text{val},$$\n",
    "\n",
    "where the expectation is not the one over the random entries of $H$, but over all trees equipped with the uniform measure. We might as well pull out the deterministic part $\\|S\\|^k$ to get\n",
    "\n",
    "$$\\sum_{\\pi\\in T_k}\\text{val}(\\pi) = \\|S\\|^k\\mathbb E\\prod_j z_j^{T_j},$$\n",
    "\n",
    "where $T_j(\\pi)$ might count the $j$-up-runs, the $j$-down-runs or some combination of both in the Dyck path corresponding to the tree $\\pi$. However, as it turns out we have to get a little bit more creative what to count if we want to obtain explicit results. To figure out what we want to count we first analyze the space of uniformly distributed Dyck paths to figure out what we *can* count.\n",
    "\n",
    "[treeAndDyck]: http://i.imgur.com/mWwk4MJ.jpg \"tree with edges ab, bc, cd, be and corresponding Dyck path\""
   ]
  },
  {
   "cell_type": "markdown",
   "metadata": {},
   "source": [
    "## Dyck Paths ↔ Random Walks\n",
    "\n",
    "While \"uniformly distributed\" sounds like something that should be easy to analyze it's actually a non-trivial task to get uniform samples in a systematic (and somewhat efficient) way. Fortunately computer scientists already had to devise means to do so and [Arnold et al's paper][3] provided the following handy formula for the probability of having to go up being at \"time\" $t$ and height $h$:\n",
    "\n",
    "$$p_{t,h} := \\frac{1}{2} \\frac{h+2}{h+1} \\frac{2k-t-h}{2k-t}$$\n",
    "\n",
    "While this is slightly harder to analyze than, say, a fair coin toss (where $p_{t,h}$ would simply be $1/2$ for all $t,h$) it still has one important property: It is Markovian (though not time homogeneous). This allows for a discretisation of the time axis.\n",
    "\n",
    "In the following it is helpful to think of this construction of uniform Dyck paths as a random walk in a potential supported in a triangle with repelling boundary effects.\n",
    "Essentially the idea boils down to the following: In the regions where strong repulsion takes place (near $h=0$ and $2k-t-h=0$) we have to get our hands dirty and prove everything \"manually\", but everywhere else we can simply approximate it with constant probabilities.\n",
    "\n",
    "In particular we have a strong upwards drift when we're close to $h=0$ and a strong downwards drift when we're close to $2k-t-h=0$ -- play around a bit, taking different limits in $p_{t,h}$! E.g. $p_{t,h}\\approx \\frac{1}{2}\\frac{2k-t-h}{2k-t}<\\frac{1}{2}$ for large $h$ and $p_{t,h}\\approx \\frac{1}{2} \\frac{h+2}{h+1}>\\frac{1}{2}$ for small $h$.\n",
    "\n",
    "![][dyckLandscape]\n",
    "\n",
    "So we would like to count up-runs if $h$ is small and down-runs everywhere else. This (i.e. switching between what we count at different positions) introduces some problems of overcounting which can be overcome with the help of the $2k$-th root. So if we set $T_j$ to count just that we end up with the problem of estimating $\\mathbb E_\\frac{1}{2} \\prod_j z_j^{T_{j}}$ instead, where $\\mathbb E_\\frac{1}{2}$ is the measure over paths of length $n$, say, where at all times and heights the probability of going up is $1/2$.\n",
    "\n",
    "If we want to get $\\lim_{n\\rightarrow\\infty}(\\mathbb E_\\frac{1}{2} \\prod_j z_j^{T_{j}})^\\frac{1}{n}$ (some simple calculations which can be found in the paper lead to this) we could of course try to compute $\\mathbb E_\\frac{1}{2} \\prod_j z_j^{T_{j}}=: a_n$ explicitly for large $n$ and take the $n$-th root afterwards.\n",
    "\n",
    "[3]: http://dl.acm.org/citation.cfm?id=357091\n",
    "[dyckLandscape]: http://i.imgur.com/gnv6gQ4m.jpg \"Dyck path induced random walk landscape\""
   ]
  },
  {
   "cell_type": "markdown",
   "metadata": {},
   "source": [
    "## Random Stopping Times\n",
    "\n",
    "A more elegant way of approaching this problem is to remember Cauchy-Hadamard's theorem, relating $\\lim_n \\|a_n\\|^{1/n}$ to the radius of convergence of the power series $\\sum_n a_n x^n$. We get this power series by introducing a random geometric stopping time $n^* $ s.t. $\\mathbb P(n^* = n)=(1-w)w^{n-1}$ and taking expectation over this random stopping time:\n",
    "\n",
    "$$\\mathbb E z^{T(n^* -1)} = (1-w)\\sum_n w^n\\mathbb E z^{U(n)},$$\n",
    "\n",
    "where, by abuse of notation, we ignored dependence on $j$, highlighted the function's dependence on the length of the path $n$ by introducing it as a parameter and (on the l.h.s.) take expectation over both the space of paths and the random stopping time.\n",
    "\n",
    "To determine the radius of convergence of $\\mathbb E z^{T(n^* -1)}$ we use the fact that we actually have a fairly explicit formula for it (following [Holst et al.][4], theorem 1).\n",
    "\n",
    "For further details feel free to take a look at the actual paper and drop me a line!\n",
    "\n",
    "[4]: https://arxiv.org/pdf/1407.6831v1.pdf"
   ]
  },
  {
   "cell_type": "code",
   "execution_count": null,
   "metadata": {
    "collapsed": true
   },
   "outputs": [],
   "source": []
  }
 ],
 "metadata": {
  "kernelspec": {
   "display_name": "Python 3",
   "language": "python",
   "name": "python3"
  },
  "language_info": {
   "codemirror_mode": {
    "name": "ipython",
    "version": 3
   },
   "file_extension": ".py",
   "mimetype": "text/x-python",
   "name": "python",
   "nbconvert_exporter": "python",
   "pygments_lexer": "ipython3",
   "version": "3.4.1"
  }
 },
 "nbformat": 4,
 "nbformat_minor": 0
}
